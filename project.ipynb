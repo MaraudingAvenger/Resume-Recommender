{
 "cells": [
  {
   "cell_type": "code",
   "execution_count": 1,
   "id": "be63ffd5-a450-433c-aa48-f6714b53208d",
   "metadata": {},
   "outputs": [],
   "source": [
    "import re\n",
    "from typing import Callable\n",
    "from functools import reduce\n",
    "from collections import Counter\n",
    "\n",
    "import nltk\n",
    "from nltk.corpus import stopwords\n",
    "from docx import Document\n",
    "\n",
    "\n",
    "\n",
    "\n",
    "def pipeline(*functions: Callable) -> Callable:\n",
    "    'create a pipeline function that applies functions in sequence to some value x'\n",
    "    return reduce(lambda f, g: lambda x: g(f(x)), functions)\n",
    "\n",
    "\n",
    "def lower_strip(x:str) -> str:\n",
    "    return x.lower().strip()\n",
    "\n",
    "def sub_punc(x:str) -> str:\n",
    "    return re.sub('\\W+', ' ', x)\n",
    "\n",
    "def sub_space(x:str) -> str:\n",
    "    return re.sub('\\s+', ' ', x)\n",
    "\n",
    "def split(x:str) -> list[str]:\n",
    "    return x.split()\n",
    "\n",
    "def stem(x: list[str]) -> list[str]:\n",
    "    p = nltk.stem.PorterStemmer()\n",
    "    return [p.stem(s) for s in x]\n",
    "\n",
    "\n",
    "d = Document(\"Luke Chambers FT Resume RES-2020-00386.docx\")\n",
    "\n",
    "clean = pipeline(\n",
    "    lower_strip,\n",
    "    #sub_punc,\n",
    "    #sub_space,\n",
    "    split,\n",
    "    #stem\n",
    ")\n",
    "    \n",
    "lines = [\n",
    "    line\n",
    "    for line in [\" \".join(word\n",
    "                          for word in clean(p.text)\n",
    "                          if not word in nltk.corpus.stopwords.words('english'))\n",
    "                for p in d.paragraphs]\n",
    "    if line\n",
    "]\n",
    "\n",
    "def get_term_freq(lines: list[list[str]]) -> Counter:\n",
    "    return Counter(item for line in lines for item in line)\n",
    "\n",
    "token_lines = map(nltk.word_tokenize, lines)"
   ]
  },
  {
   "cell_type": "code",
   "execution_count": null,
   "id": "103975d6-b2e4-49a8-933e-3c3953601db3",
   "metadata": {},
   "outputs": [],
   "source": []
  }
 ],
 "metadata": {
  "kernelspec": {
   "display_name": "Python 3 (ipykernel)",
   "language": "python",
   "name": "python3"
  },
  "language_info": {
   "codemirror_mode": {
    "name": "ipython",
    "version": 3
   },
   "file_extension": ".py",
   "mimetype": "text/x-python",
   "name": "python",
   "nbconvert_exporter": "python",
   "pygments_lexer": "ipython3",
   "version": "3.9.6"
  }
 },
 "nbformat": 4,
 "nbformat_minor": 5
}
